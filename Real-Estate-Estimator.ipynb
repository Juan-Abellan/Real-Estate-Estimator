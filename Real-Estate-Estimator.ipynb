{
 "cells": [
  {
   "cell_type": "markdown",
   "id": "6b34a9c7",
   "metadata": {},
   "source": [
    "# Real-Estate-Estimator"
   ]
  },
  {
   "cell_type": "markdown",
   "id": "4038a32e",
   "metadata": {},
   "source": [
    "In the following challenge, we will try to figure out whether there exists a ***LINEAR RELATIONSHIP*** between :\n",
    "- the **price** of a flat (our **target** for each flat)\n",
    "- and some usual **features** such as like surface area, bedrooms, etc..."
   ]
  },
  {
   "cell_type": "markdown",
   "id": "2f2c3e0a",
   "metadata": {},
   "source": [
    "## Imports"
   ]
  },
  {
   "cell_type": "code",
   "execution_count": 1,
   "id": "e0b6c322",
   "metadata": {},
   "outputs": [],
   "source": [
    "import numpy as np"
   ]
  },
  {
   "cell_type": "markdown",
   "id": "95c86161",
   "metadata": {},
   "source": [
    "## Data and approach "
   ]
  },
  {
   "cell_type": "markdown",
   "id": "a04e6f04",
   "metadata": {},
   "source": [
    "Suppose that we were able to collect data for 4 flats down below: \n",
    "- their **features**:\n",
    "    - `surface` (square feet)\n",
    "    - `bedrooms`\n",
    "    - `floors` \n",
    "- their **target**:\n",
    "    - `price` (in thousands of USD)\n",
    "\n",
    "|flats |surface (square feet)|bedrooms|floors|price (k USD)|\n",
    "|------|-------------|--------|------|------------|\n",
    "|flat1 |620|1|1|244|\n",
    "|flat2 |3280|4|2|671|\n",
    "|flat3 |1900|2|2|504|\n",
    "|flat4 |1320|3|3|510|\n",
    "\n",
    "👉 A first approach to **predict the price of an apartment** is to try to **find a linear relationship between the  target and the features** (*i.e. between the price and the (surface, bedrooms, floor)*), by solving the following **system of $n = 4$ linear equations with $p = 4$ unknown variables**: \n",
    "\n",
    "\n",
    "\n",
    "$$\\begin{cases}\n",
    "    244 = \\theta_0 + 620\\theta_1 + 1\\theta_2 + 1\\theta_3 \\\\\n",
    "    671 = \\theta_0 + 3280\\theta_1 + 4\\theta_2 + 2\\theta_3 \\\\\n",
    "    504 = \\theta_0 + 1900\\theta_1 + 2\\theta_2 + 2\\theta_3 \\\\\n",
    "    510 = \\theta_0 + 1320\\theta_1 + 3\\theta_2 + 3\\theta_3 \\\\\n",
    "\\end{cases}$$\n",
    "\n",
    "which can be translated into a matricial equation:\n",
    "\n",
    "$$\\boldsymbol y = \\boldsymbol {X \\cdot \\theta}$$\n",
    "\n",
    "$$\\begin{bmatrix}\n",
    "    244 \\\\\n",
    "    671 \\\\\n",
    "    504 \\\\\n",
    "    510\n",
    "\\end{bmatrix}_{4 \\times 1} = \\begin{bmatrix}\n",
    "    1 & 620 & 1 & 1 \\\\\n",
    "    1 & 3280 & 4 & 2 \\\\\n",
    "    1 & 1900 & 2 & 2 \\\\\n",
    "    1 & 1320 & 3 & 3\n",
    "\\end{bmatrix}_{4 \\times 4} \\begin{bmatrix}\n",
    "    \\theta_0 \\\\\n",
    "    \\theta_1 \\\\\n",
    "    \\theta_2 \\\\\n",
    "    \\theta_3\n",
    "\\end{bmatrix}_{4 \\times 1}$$\n",
    "\n",
    "where :\n",
    "* $\\boldsymbol y$ is the **`target`**, the vector of `Price`\n",
    "* $\\boldsymbol X$ represents the **`matrix of features`**\n",
    "* $\\boldsymbol {\\theta} = \\begin{bmatrix}\n",
    "    \\theta_0 \\\\\n",
    "    \\theta_1 \\\\\n",
    "    \\theta_2 \\\\\n",
    "    \\theta_3\n",
    "\\end{bmatrix}$ (*theta*) is the vector of **coefficients/variables/unknowns** to be found\n",
    "\n",
    "----\n",
    "\n",
    "Here, we are using the Greek letter `theta` $\\boldsymbol \\theta = \\begin{bmatrix}\n",
    "    \\theta_0 \\\\\n",
    "    \\theta_1 \\\\\n",
    "    \\theta_2 \\\\\n",
    "    \\theta_3 \\\\\n",
    "\\end{bmatrix}$, to represent the coefficients of our **features**:\n",
    "\n",
    "- A flat with no surface, no bedroom and no floor would cost $\\theta_0$\n",
    "- An increase of one sqm - *holding the number of bedrooms and the floor  number constant* -  would increase the price by $\\theta_1$ thousand USD\n",
    "- An additional bedroom - *holding the surface and the floor number constant* -   would increase the price by $\\theta_2$ thousand USD\n",
    "- An increase of one floor number - *holding the surface and the number of bedrooms constant* - would increase the price by $\\theta_3$ thousand USD\n",
    "\n",
    "----\n",
    "\n",
    "If we manage to solve this system of linear equations (i.e. if we find $\\theta_0$, $\\theta_1$, $\\theta_2$, $\\theta_3$), the price of any new flat could be estimated using the following formula: $$y_{newflat} = \\boldsymbol x_{newflat} \\cdot \\boldsymbol \\theta$$"
   ]
  },
  {
   "cell_type": "markdown",
   "id": "e3b1aac6",
   "metadata": {},
   "source": [
    "## Defining the matrix $\\boldsymbol X$ of `features`:"
   ]
  },
  {
   "cell_type": "markdown",
   "id": "d0e439a6",
   "metadata": {},
   "source": [
    "Create a $(4,3)$ `numpy.ndarray` storing the values of the 3 features (surface, bedrooms, floors) for the 4 observations. "
   ]
  },
  {
   "cell_type": "code",
   "execution_count": 2,
   "id": "83d618a5",
   "metadata": {},
   "outputs": [
    {
     "name": "stdout",
     "output_type": "stream",
     "text": [
      "\n",
      "type(flat1) = <class 'list'>\n",
      "--------------------------------------------\n",
      "X = array([[ 620,    1,    1],\n",
      "       [3280,    4,    2],\n",
      "       [1900,    2,    2],\n",
      "       [1320,    3,    3]])\n",
      "--------------------------------------------\n",
      "type(X)= <class 'numpy.ndarray'>\n",
      "len(X)= 4\n",
      "X.shape = (4, 3)\n",
      "X.ndim = 2\n",
      "X.dtype = dtype('int64')\n",
      "\n"
     ]
    }
   ],
   "source": [
    "# flat θ = [surface θ1, bedrooms θ2, floors θ3] \n",
    "flat1 = [620,1,1] \n",
    "flat2 = [3280,4,2] \n",
    "flat3 = [1900,2,2] \n",
    "flat4 = [1320,3,3]\n",
    "\n",
    "\n",
    "X = np.array([\n",
    "            flat1,\n",
    "            flat2,\n",
    "            flat3,\n",
    "            flat4\n",
    "            ])\n",
    "\n",
    "print(f\"\"\"\n",
    "{type(flat1) = }\n",
    "--------------------------------------------\n",
    "{X = }\n",
    "--------------------------------------------\n",
    "{type(X)= }\n",
    "{len(X)= }\n",
    "{X.shape = }\n",
    "{X.ndim = }\n",
    "{X.dtype = }\n",
    "\"\"\")\n"
   ]
  },
  {
   "cell_type": "markdown",
   "id": "cb652462",
   "metadata": {},
   "source": [
    "Add a \"constant\" vector of ones $ = \\begin{bmatrix}\n",
    "    1 \\\\\n",
    "    1 \\\\\n",
    "    1 \\\\\n",
    "    1 \\\\\n",
    "\\end{bmatrix}$ to create the $(4,4)$ matrix $\\boldsymbol X$ representing the linear system of equations\n",
    "\n",
    "<details>\n",
    "    <summary><i>Explanations</i></summary>\n",
    "\n",
    "As you've probably noticed, the linear system of equations includes a $\\theta_0$ coefficient which appears in the 4 equations. \n",
    "\n",
    "We need an additional feature to represent the y-intercept of the linear regression line \n",
    "\n",
    "_Note_ : we talk about an [affine relation](https://math.stackexchange.com/questions/275310/what-is-the-difference-between-linear-and-affine-function) rather than a strict linear relation between the `price` and the features (_Cf. Decision Science Module_)\n",
    "    \n",
    "    \n",
    "</details>"
   ]
  },
  {
   "cell_type": "markdown",
   "id": "ce787a4f",
   "metadata": {},
   "source": [
    "## Define x0 as a (4,1) vector filled with 1 with the fastest NumPy method"
   ]
  },
  {
   "cell_type": "code",
   "execution_count": 3,
   "id": "a40cde80",
   "metadata": {},
   "outputs": [
    {
     "name": "stdout",
     "output_type": "stream",
     "text": [
      "\n",
      "x0 = array([[1.],\n",
      "       [1.],\n",
      "       [1.],\n",
      "       [1.]])\n",
      "--------------------------------------------\n",
      "type(x0)= <class 'numpy.ndarray'>\n",
      "len(x0)= 4\n",
      "x0.shape = (4, 1)\n",
      "x0.ndim = 2\n",
      "x0.dtype = dtype('float64')\n",
      "\n"
     ]
    }
   ],
   "source": [
    "x0 = np.ones((4,1)) \n",
    "print(f\"\"\"\n",
    "{x0 = }\n",
    "--------------------------------------------\n",
    "{type(x0)= }\n",
    "{len(x0)= }\n",
    "{x0.shape = }\n",
    "{x0.ndim = }\n",
    "{x0.dtype = }\n",
    "\"\"\")"
   ]
  },
  {
   "cell_type": "markdown",
   "id": "5ae8bb47",
   "metadata": {},
   "source": [
    "## Use `numpy.hstack` to create the (4,4) matrix X by concatenating x0 to your previous (4,3) matrix\n"
   ]
  },
  {
   "cell_type": "code",
   "execution_count": 4,
   "id": "69481c69",
   "metadata": {},
   "outputs": [
    {
     "name": "stdout",
     "output_type": "stream",
     "text": [
      "\n",
      "X = array([[1.00e+00, 6.20e+02, 1.00e+00, 1.00e+00],\n",
      "       [1.00e+00, 3.28e+03, 4.00e+00, 2.00e+00],\n",
      "       [1.00e+00, 1.90e+03, 2.00e+00, 2.00e+00],\n",
      "       [1.00e+00, 1.32e+03, 3.00e+00, 3.00e+00]])\n",
      "--------------------------------------------\n",
      "type(X)= <class 'numpy.ndarray'>\n",
      "len(X)= 4\n",
      "X.shape = (4, 4)\n",
      "X.ndim = 2\n",
      "X.dtype = dtype('float64')\n",
      "\n"
     ]
    }
   ],
   "source": [
    "X = np.hstack((x0,X))\n",
    "\n",
    "print(f\"\"\"\n",
    "{X = }\n",
    "--------------------------------------------\n",
    "{type(X)= }\n",
    "{len(X)= }\n",
    "{X.shape = }\n",
    "{X.ndim = }\n",
    "{X.dtype = }\n",
    "\"\"\")\n"
   ]
  },
  {
   "cell_type": "markdown",
   "id": "5b1bf15d",
   "metadata": {},
   "source": [
    "## Define the vector $\\boldsymbol y$ of `Prices`"
   ]
  },
  {
   "cell_type": "markdown",
   "id": "e4aa50fd",
   "metadata": {},
   "source": [
    "$\\boldsymbol y  = \\begin{bmatrix}\n",
    "    244 \\\\\n",
    "    671 \\\\\n",
    "    504 \\\\\n",
    "    510\n",
    "\\end{bmatrix}$\n",
    "\n",
    "In order to match our matricial representation $\\boldsymbol y  = \\boldsymbol {X\\cdot \\theta}$, what should the shape of $\\boldsymbol y$ be? Define $\\boldsymbol y$ down below. \n",
    "\n",
    "<details>\n",
    "    <summary><i>Hint</i></summary>\n",
    "\n",
    "$\\boldsymbol y$ should be a $(4,1)$ array, equivalent to a flat \"vector\", represented vertically\n",
    "</details>"
   ]
  },
  {
   "cell_type": "code",
   "execution_count": 5,
   "id": "aa2fc4dc",
   "metadata": {},
   "outputs": [
    {
     "name": "stdout",
     "output_type": "stream",
     "text": [
      "\n",
      "y = array([[244],\n",
      "       [671],\n",
      "       [504],\n",
      "       [510]])\n",
      "--------------------------------------------\n",
      "type(y)= <class 'numpy.ndarray'>\n",
      "len(y)= 4\n",
      "y.shape = (4, 1)\n",
      "y.ndim = 2\n",
      "y.dtype = dtype('int64')\n",
      "\n"
     ]
    }
   ],
   "source": [
    "y = np.array([\n",
    "    [244],\n",
    "    [671],\n",
    "    [504],\n",
    "    [510]])\n",
    "\n",
    "print(f\"\"\"\n",
    "{y = }\n",
    "--------------------------------------------\n",
    "{type(y)= }\n",
    "{len(y)= }\n",
    "{y.shape = }\n",
    "{y.ndim = }\n",
    "{y.dtype = }\n",
    "\"\"\")"
   ]
  },
  {
   "cell_type": "markdown",
   "id": "6578c055",
   "metadata": {},
   "source": [
    "## Find the solution of the system"
   ]
  },
  {
   "cell_type": "markdown",
   "id": "ce1c09c2",
   "metadata": {},
   "source": [
    "Now, it's time to find the vector of coefficients $\\boldsymbol \\theta = \\begin{bmatrix}\n",
    "    \\theta_0 \\\\\n",
    "    \\theta_1 \\\\\n",
    "    \\theta_2 \\\\\n",
    "    \\theta_3\n",
    "\\end{bmatrix}$ !\n",
    "\n",
    "The solution of the equation is:\n",
    " \n",
    "$$ \\large \\boldsymbol X \\cdot \\boldsymbol \\theta = \\boldsymbol y \n",
    "\\large \\iff \\boldsymbol X^{-1} \\cdot \\boldsymbol X \\boldsymbol \\cdot \\theta = \\boldsymbol X^{-1} \\cdot \\boldsymbol y \n",
    "\\large \\iff \\boldsymbol \\theta = \\boldsymbol X^{-1} \\cdot \\boldsymbol y\n",
    "$$\n",
    "\n",
    "where $\\large \\boldsymbol X^{-1}$ is the inverse of $\\large \\boldsymbol X$."
   ]
  },
  {
   "cell_type": "markdown",
   "id": "d470fc19",
   "metadata": {},
   "source": [
    "## Compute the inverse of the matrix X with the right NumPy method\n",
    "\n",
    "You can check that the inversion worked by testing the following equality:\n",
    "\n",
    "$$\\boldsymbol X^{-1} \\cdot\\boldsymbol X = \\boldsymbol I_4$$\n",
    "where $\\boldsymbol I_4$ is the $ 4 \\times 4 $ identity matrix $ \\begin{bmatrix}\n",
    "    1 & 0 & 0 & 0 \\\\\n",
    "    0 & 1 & 0 & 0 \\\\\n",
    "    0 & 0 & 1 & 0 \\\\\n",
    "    0 & 0 & 0 & 1\n",
    "\\end{bmatrix}$"
   ]
  },
  {
   "cell_type": "code",
   "execution_count": 11,
   "id": "56c26d41",
   "metadata": {},
   "outputs": [
    {
     "name": "stdout",
     "output_type": "stream",
     "text": [
      "\n",
      "X_inverse = array([[ 1.64516129e+00,  4.42419702e-17, -2.90322581e-01,\n",
      "        -3.54838710e-01],\n",
      "       [-5.37634409e-04, -2.50426246e-19,  1.07526882e-03,\n",
      "        -5.37634409e-04],\n",
      "       [ 3.70967742e-01,  5.00000000e-01, -1.24193548e+00,\n",
      "         3.70967742e-01],\n",
      "       [-6.82795699e-01, -5.00000000e-01,  8.65591398e-01,\n",
      "         3.17204301e-01]])\n",
      "--------------------------------------------\n",
      "type(X_inverse)= <class 'numpy.ndarray'>\n",
      "len(X_inverse)= 4\n",
      "X_inverse.shape = (4, 4)\n",
      "X_inverse.ndim = 2\n",
      "X_inverse.dtype = dtype('float64')\n",
      "..............................................................................\n",
      "I4 = array([[1., 0., 0., 0.],\n",
      "       [0., 1., 0., 0.],\n",
      "       [0., 0., 1., 0.],\n",
      "       [0., 0., 0., 1.]])\n",
      "--------------------------------------------\n",
      "type(I4)= <class 'numpy.ndarray'>\n",
      "len(I4)= 4\n",
      "I4.shape = (4, 4)\n",
      "I4.ndim = 2\n",
      "I4.dtype = dtype('float64')\n",
      "..............................................................................\n",
      "X_invX = array([[ 1.00000000e+00, -5.10702591e-14, -5.55111512e-17,\n",
      "        -2.77555756e-16],\n",
      "       [-3.25260652e-19,  1.00000000e+00, -8.67361738e-19,\n",
      "        -4.33680869e-19],\n",
      "       [ 3.33066907e-16,  5.07149878e-13,  1.00000000e+00,\n",
      "         3.33066907e-16],\n",
      "       [-2.77555756e-16, -6.10622664e-13, -7.21644966e-16,\n",
      "         1.00000000e+00]])\n",
      "--------------------------------------------\n",
      "type(X_invX)= <class 'numpy.ndarray'>\n",
      "len(X_invX)= 4\n",
      "X_invX.shape = (4, 4)\n",
      "X_invX.ndim = 2\n",
      "X_invX.dtype =dtype('float64')\n",
      "\n"
     ]
    }
   ],
   "source": [
    "X_inverse = np.linalg.inv(X)\n",
    "I4 = np.eye(4)\n",
    "X_invX = np.dot(X_inverse,X) # != Xinv * X\n",
    "\n",
    "\n",
    "print(f\"\"\"\n",
    "{X_inverse = }\n",
    "--------------------------------------------\n",
    "{type(X_inverse)= }\n",
    "{len(X_inverse)= }\n",
    "{X_inverse.shape = }\n",
    "{X_inverse.ndim = }\n",
    "{X_inverse.dtype = }\n",
    "..............................................................................\n",
    "{I4 = }\n",
    "--------------------------------------------\n",
    "{type(I4)= }\n",
    "{len(I4)= }\n",
    "{I4.shape = }\n",
    "{I4.ndim = }\n",
    "{I4.dtype = }\n",
    "..............................................................................\n",
    "{X_invX = }\n",
    "--------------------------------------------\n",
    "{type(X_invX)= }\n",
    "{len(X_invX)= }\n",
    "{X_invX.shape = }\n",
    "{X_invX.ndim = }\n",
    "{X_invX.dtype =}\n",
    "\"\"\")"
   ]
  },
  {
   "cell_type": "markdown",
   "id": "58e0ef90",
   "metadata": {},
   "source": [
    "Does it look like $\\boldsymbol I_4 = $ \n",
    "\n",
    "If it doesn't, you probably used the `*` operator to perform the multiplication between $\\boldsymbol X^{-1}$ and $\\boldsymbol X$. Here we want to perform the matrix product. You should find the right Numpy method to do so.\n",
    "\n",
    "If it does, you might have noticed that you do not get exactly zeros and ones in the resulting product. To be sure, you can try the [`numpy.allclose()`](https://numpy.org/doc/stable/reference/generated/numpy.allclose.html?highlight=allclose#numpy.allclose) method to check your result:"
   ]
  },
  {
   "cell_type": "code",
   "execution_count": 12,
   "id": "729a03da",
   "metadata": {},
   "outputs": [
    {
     "data": {
      "text/plain": [
       "True"
      ]
     },
     "execution_count": 12,
     "metadata": {},
     "output_type": "execute_result"
    }
   ],
   "source": [
    "np.allclose(X_invX, I4)"
   ]
  },
  {
   "cell_type": "markdown",
   "id": "3efc73a2",
   "metadata": {},
   "source": [
    "You are finally able to compute `theta` using the following formula: $ \\large \\boldsymbol \\theta = \\boldsymbol X^{-1}\\cdot \\boldsymbol y $:"
   ]
  },
  {
   "cell_type": "code",
   "execution_count": 14,
   "id": "22f30362",
   "metadata": {
    "scrolled": true
   },
   "outputs": [
    {
     "name": "stdout",
     "output_type": "stream",
     "text": [
      "\n",
      "theta = array([[ 74.12903226],\n",
      "       [  0.13655914],\n",
      "       [-10.72580645],\n",
      "       [ 95.93010753]])\n",
      "--------------------------------------------\n",
      "type(theta)= <class 'numpy.ndarray'>\n",
      "len(theta)= 4\n",
      "theta.shape = (4, 1)\n",
      "theta.ndim = 2\n",
      "theta.dtype = dtype('float64')\n",
      "\n"
     ]
    }
   ],
   "source": [
    "theta = np.dot(X_inverse, y)\n",
    "\n",
    "print(f\"\"\"\n",
    "{theta = }\n",
    "--------------------------------------------\n",
    "{type(theta)= }\n",
    "{len(theta)= }\n",
    "{theta.shape = }\n",
    "{theta.ndim = }\n",
    "{theta.dtype = }\n",
    "\"\"\")"
   ]
  },
  {
   "cell_type": "markdown",
   "id": "8344f1a5",
   "metadata": {},
   "source": [
    "## Estimation of a new flat price\n",
    "\n",
    "You finally solved the system finding $\\boldsymbol \\theta$ and are now able to estimate the `Price` (in thousands of $) of a 5th flat given these characteristics:\n",
    "\n",
    "- `Surface`: 3000 $ft^2$\n",
    "- `Bedrooms`: 5 \n",
    "- `Floors`: 1\n",
    "\n",
    "with the following formula:\n",
    "\n",
    "$$y_{flat5} = \\boldsymbol x_{flat5} \\cdot \\boldsymbol \\theta$$"
   ]
  },
  {
   "cell_type": "markdown",
   "id": "04760088",
   "metadata": {},
   "source": [
    "## Define x5"
   ]
  },
  {
   "cell_type": "code",
   "execution_count": 16,
   "id": "7c1cc34b",
   "metadata": {},
   "outputs": [],
   "source": [
    "x5 = np.array([[1,3000,5,1]])"
   ]
  },
  {
   "cell_type": "markdown",
   "id": "4108469d",
   "metadata": {},
   "source": [
    "## Compute y5\n"
   ]
  },
  {
   "cell_type": "code",
   "execution_count": 17,
   "id": "9623e170",
   "metadata": {
    "scrolled": true
   },
   "outputs": [
    {
     "name": "stdout",
     "output_type": "stream",
     "text": [
      "\n",
      "y5 = array([[526.10752688]])\n",
      "--------------------------------------------\n",
      "type(y5)= <class 'numpy.ndarray'>\n",
      "len(y5)= 1\n",
      "y5.shape = (1, 1)\n",
      "y5.ndim = 2\n",
      "y5.dtype = dtype('float64')\n",
      "\n"
     ]
    }
   ],
   "source": [
    "# You should find a Price of 526,000 $\n",
    "y5 = np.dot(x5,theta) \n",
    "\n",
    "print(f\"\"\"\n",
    "{y5 = }\n",
    "--------------------------------------------\n",
    "{type(y5)= }\n",
    "{len(y5)= }\n",
    "{y5.shape = }\n",
    "{y5.ndim = }\n",
    "{y5.dtype = }\n",
    "\"\"\")"
   ]
  },
  {
   "cell_type": "markdown",
   "id": "bff88ae2",
   "metadata": {},
   "source": [
    "**In reality, a flat price is never entirely determined by its surface, number of bedrooms and  the floor number.**\n",
    "\n",
    "Let's imagine that we measure the real price $y_{flat5}$ at $700,000$ instead of $526,000$ as predicted. \n",
    "\n",
    "**Could we take this new information into account to improve our model?**\n",
    "\n",
    "Update the linear system of equations $ \\large \\boldsymbol X \\cdot \\boldsymbol \\theta = \\boldsymbol y$ to incorporate the information carried out by this new flat."
   ]
  },
  {
   "cell_type": "markdown",
   "id": "1ae99d35",
   "metadata": {},
   "source": [
    "## Create the new matrix of features X of shape (5,4)"
   ]
  },
  {
   "cell_type": "code",
   "execution_count": 19,
   "id": "6a62c3bc",
   "metadata": {},
   "outputs": [
    {
     "name": "stdout",
     "output_type": "stream",
     "text": [
      "\n",
      "X2 = array([[1.00e+00, 6.20e+02, 1.00e+00, 1.00e+00],\n",
      "       [1.00e+00, 3.28e+03, 4.00e+00, 2.00e+00],\n",
      "       [1.00e+00, 1.90e+03, 2.00e+00, 2.00e+00],\n",
      "       [1.00e+00, 1.32e+03, 3.00e+00, 3.00e+00],\n",
      "       [1.00e+00, 3.00e+03, 5.00e+00, 1.00e+00]])\n",
      "--------------------------------------------\n",
      "type(X2)= <class 'numpy.ndarray'>\n",
      "len(X2)= 5\n",
      "X2.shape = (5, 4)\n",
      "X2.ndim = 2\n",
      "X2.dtype = dtype('float64')\n",
      "\n"
     ]
    }
   ],
   "source": [
    "new_flat = np.array([[1, 3000, 5, 1]])\n",
    "X2 = np.vstack((X, new_flat))\n",
    "\n",
    "print(f\"\"\"\n",
    "{X2 = }\n",
    "--------------------------------------------\n",
    "{type(X2)= }\n",
    "{len(X2)= }\n",
    "{X2.shape = }\n",
    "{X2.ndim = }\n",
    "{X2.dtype = }\n",
    "\"\"\")\n"
   ]
  },
  {
   "cell_type": "markdown",
   "id": "199dae59",
   "metadata": {},
   "source": [
    "## Create new y of shape (5,1)\n"
   ]
  },
  {
   "cell_type": "code",
   "execution_count": 20,
   "id": "4172ea22",
   "metadata": {},
   "outputs": [
    {
     "name": "stdout",
     "output_type": "stream",
     "text": [
      "\n",
      "y2 = array([[244],\n",
      "       [671],\n",
      "       [504],\n",
      "       [510],\n",
      "       [700]])\n",
      "--------------------------------------------\n",
      "type(y2)= <class 'numpy.ndarray'>\n",
      "len(y2)= 5\n",
      "y2.shape = (5, 1)\n",
      "y2.ndim = 2\n",
      "y2.dtype = dtype('int64')\n",
      "\n"
     ]
    }
   ],
   "source": [
    "y2 = np.vstack((y, np.array([[700]])))\n",
    "\n",
    "print(f\"\"\"\n",
    "{y2 = }\n",
    "--------------------------------------------\n",
    "{type(y2)= }\n",
    "{len(y2)= }\n",
    "{y2.shape = }\n",
    "{y2.ndim = }\n",
    "{y2.dtype = }\n",
    "\"\"\")"
   ]
  },
  {
   "cell_type": "markdown",
   "id": "6b8dd987",
   "metadata": {},
   "source": [
    "Let's try to predict the price of a 6th flat from our updated model.  \n",
    "To do so, try to solve $\\boldsymbol \\theta$ from $\\boldsymbol X \\cdot \\boldsymbol \\theta = \\boldsymbol y$ using [`numpy.linalg.solve`](https://docs.scipy.org/doc/numpy/reference/generated/numpy.linalg.solve.html).\n",
    "\n",
    "What is going on? What can you conclude?"
   ]
  },
  {
   "cell_type": "code",
   "execution_count": 21,
   "id": "9683db56",
   "metadata": {
    "scrolled": true
   },
   "outputs": [
    {
     "ename": "LinAlgError",
     "evalue": "Last 2 dimensions of the array must be square",
     "output_type": "error",
     "traceback": [
      "\u001b[0;31m---------------------------------------------------------------------------\u001b[0m",
      "\u001b[0;31mLinAlgError\u001b[0m                               Traceback (most recent call last)",
      "Cell \u001b[0;32mIn [21], line 1\u001b[0m\n\u001b[0;32m----> 1\u001b[0m \u001b[43mnp\u001b[49m\u001b[38;5;241;43m.\u001b[39;49m\u001b[43mlinalg\u001b[49m\u001b[38;5;241;43m.\u001b[39;49m\u001b[43msolve\u001b[49m\u001b[43m(\u001b[49m\u001b[43mX2\u001b[49m\u001b[43m,\u001b[49m\u001b[43m \u001b[49m\u001b[43my2\u001b[49m\u001b[43m)\u001b[49m\n",
      "File \u001b[0;32m<__array_function__ internals>:180\u001b[0m, in \u001b[0;36msolve\u001b[0;34m(*args, **kwargs)\u001b[0m\n",
      "File \u001b[0;32m~/.pyenv/versions/3.10.6/envs/lewagon/lib/python3.10/site-packages/numpy/linalg/linalg.py:387\u001b[0m, in \u001b[0;36msolve\u001b[0;34m(a, b)\u001b[0m\n\u001b[1;32m    385\u001b[0m a, _ \u001b[38;5;241m=\u001b[39m _makearray(a)\n\u001b[1;32m    386\u001b[0m _assert_stacked_2d(a)\n\u001b[0;32m--> 387\u001b[0m \u001b[43m_assert_stacked_square\u001b[49m\u001b[43m(\u001b[49m\u001b[43ma\u001b[49m\u001b[43m)\u001b[49m\n\u001b[1;32m    388\u001b[0m b, wrap \u001b[38;5;241m=\u001b[39m _makearray(b)\n\u001b[1;32m    389\u001b[0m t, result_t \u001b[38;5;241m=\u001b[39m _commonType(a, b)\n",
      "File \u001b[0;32m~/.pyenv/versions/3.10.6/envs/lewagon/lib/python3.10/site-packages/numpy/linalg/linalg.py:204\u001b[0m, in \u001b[0;36m_assert_stacked_square\u001b[0;34m(*arrays)\u001b[0m\n\u001b[1;32m    202\u001b[0m m, n \u001b[38;5;241m=\u001b[39m a\u001b[38;5;241m.\u001b[39mshape[\u001b[38;5;241m-\u001b[39m\u001b[38;5;241m2\u001b[39m:]\n\u001b[1;32m    203\u001b[0m \u001b[38;5;28;01mif\u001b[39;00m m \u001b[38;5;241m!=\u001b[39m n:\n\u001b[0;32m--> 204\u001b[0m     \u001b[38;5;28;01mraise\u001b[39;00m LinAlgError(\u001b[38;5;124m'\u001b[39m\u001b[38;5;124mLast 2 dimensions of the array must be square\u001b[39m\u001b[38;5;124m'\u001b[39m)\n",
      "\u001b[0;31mLinAlgError\u001b[0m: Last 2 dimensions of the array must be square"
     ]
    }
   ],
   "source": [
    "np.linalg.solve(X2, y2)"
   ]
  },
  {
   "cell_type": "markdown",
   "id": "3d5ae0aa",
   "metadata": {},
   "source": [
    "$ \\large \\boldsymbol X$ is not a square matrix \n",
    "\n",
    "$ \\large  \\rightarrow$  therefore it cannot be inversible: $ \\large  \\boldsymbol X^{-1}$ does not exist\n",
    " \n",
    "$ \\large  \\rightarrow$ $ \\large \\boldsymbol \\theta$ cannot be computed from $ \\large  \\boldsymbol y = \\boldsymbol X \\cdot \\boldsymbol \\theta$ \n",
    "    \n",
    "Our initial approach, which consists in finding a closed mathematical formula to compute a predicted price of a flat as a linear combination of only 3 features **does not hold true** for our 5 observed flats. \n",
    "\n",
    "***Trust the process !*** \n",
    "\n",
    "$ \\large  \\rightarrow$ Instead, we will learn in the coming weeks methods to **approximate** a flat price based on these features.\n",
    "\n",
    "For instance, instead of solving $\\large  \\boldsymbol y = \\boldsymbol X \\cdot \\boldsymbol \\theta$ we could find $ \\large  \\hat{\\boldsymbol \\theta}$ that minimizes the error $ \\large \\boldsymbol e = \\boldsymbol X \\cdot \\hat{\\boldsymbol \\theta} - \\boldsymbol y $: This approach is called a **Linear Regression model**\n",
    "\n",
    "This new estimator can then be used to give an **approximate** estimation of the price on any new flats with $ \\large  \\hat y_{flat_6} = \\boldsymbol x_{flat_6} \\cdot \\hat{\\boldsymbol \\theta}$ \n",
    "\n"
   ]
  }
 ],
 "metadata": {
  "kernelspec": {
   "display_name": "Python 3 (ipykernel)",
   "language": "python",
   "name": "python3"
  },
  "language_info": {
   "codemirror_mode": {
    "name": "ipython",
    "version": 3
   },
   "file_extension": ".py",
   "mimetype": "text/x-python",
   "name": "python",
   "nbconvert_exporter": "python",
   "pygments_lexer": "ipython3",
   "version": "3.10.6"
  },
  "toc": {
   "base_numbering": 1,
   "nav_menu": {},
   "number_sections": true,
   "sideBar": true,
   "skip_h1_title": false,
   "title_cell": "Table of Contents",
   "title_sidebar": "Contents",
   "toc_cell": false,
   "toc_position": {},
   "toc_section_display": true,
   "toc_window_display": false
  }
 },
 "nbformat": 4,
 "nbformat_minor": 5
}
